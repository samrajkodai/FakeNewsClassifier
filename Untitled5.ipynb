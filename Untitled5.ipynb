{
  "nbformat": 4,
  "nbformat_minor": 0,
  "metadata": {
    "colab": {
      "name": "Untitled5.ipynb",
      "provenance": []
    },
    "kernelspec": {
      "name": "python3",
      "display_name": "Python 3"
    },
    "language_info": {
      "name": "python"
    }
  },
  "cells": [
    {
      "cell_type": "code",
      "metadata": {
        "colab": {
          "base_uri": "https://localhost:8080/"
        },
        "id": "LRXtfvnuwcdx",
        "outputId": "8c9df3be-1b68-4086-8556-48458724faf7"
      },
      "source": [
        "import nltk\n",
        "nltk.download('stopwords')"
      ],
      "execution_count": 36,
      "outputs": [
        {
          "output_type": "stream",
          "text": [
            "[nltk_data] Downloading package stopwords to /root/nltk_data...\n",
            "[nltk_data]   Package stopwords is already up-to-date!\n"
          ],
          "name": "stdout"
        },
        {
          "output_type": "execute_result",
          "data": {
            "text/plain": [
              "True"
            ]
          },
          "metadata": {
            "tags": []
          },
          "execution_count": 36
        }
      ]
    },
    {
      "cell_type": "code",
      "metadata": {
        "id": "IX3S-MUllx2m"
      },
      "source": [
        "import pandas as pd\n",
        "import numpy as np\n"
      ],
      "execution_count": 37,
      "outputs": []
    },
    {
      "cell_type": "code",
      "metadata": {
        "colab": {
          "base_uri": "https://localhost:8080/"
        },
        "id": "UFyH4Athkz6x",
        "outputId": "39ceb849-61af-49cc-f4f4-710e7f39696f"
      },
      "source": [
        "df=pd.read_csv('train.csv')\n",
        "df.head()\n",
        "df.isnull().sum()\n",
        "df.dropna(inplace=True)\n",
        "\n",
        "\n",
        "x=df.drop('label',axis=1)\n",
        "y=df['label']\n",
        "\n",
        "x.reset_index(inplace=True)\n",
        "\n",
        "import re\n",
        "import nltk\n",
        "from tensorflow.keras.layers import Dense,LSTM,Embedding\n",
        "from tensorflow.keras.preprocessing.text import one_hot\n",
        "from tensorflow.keras.preprocessing.sequence import pad_sequences\n",
        "from nltk.corpus import stopwords\n",
        "\n",
        "voc_size=5000\n",
        "\n",
        "message=x.copy()\n",
        "\n",
        "from nltk.stem.porter import PorterStemmer\n",
        "ps=PorterStemmer()\n",
        "corpus=[]\n",
        "\n",
        "for i in range(0,len(message)):\n",
        "  review=re.sub('[^a-zA-Z]',' ',message['title'][i])\n",
        "  review=review.lower()\n",
        "  review=review.split()\n",
        "  review=[ps.stem(word) for word in review if not word in stopwords.words('english')]\n",
        "  review=' '.join(review)\n",
        "  corpus.append(review)\n",
        "\n",
        "corpus\n",
        "\n",
        "one_hotp=[one_hot(words,voc_size) for words in corpus]\n",
        "\n",
        "one_hotp\n",
        "\n",
        "sent_length=20\n",
        "\n",
        "embed=pad_sequences(one_hotp,maxlen=sent_length,padding='pre')\n",
        "\n",
        "embed\n",
        "\n",
        "from tensorflow.keras.models import Sequential\n",
        "embed_vector_feature=40\n",
        "\n",
        "model=Sequential()\n",
        "model.add(Embedding(voc_size,embed_vector_feature,input_length=sent_length))\n",
        "model.add(LSTM(100))\n",
        "model.add(Dense(1,activation='sigmoid'))\n",
        "model.compile(loss='binary_crossentropy',optimizer='adam',metrics=['accuracy'])\n",
        "print(model.summary())\n",
        "\n",
        "import numpy as np\n",
        "x_final=np.array(embed)\n",
        "y_final= np.array(y)\n",
        "\n",
        "x_final.shape\n",
        "\n",
        "y_final.shape\n",
        "\n",
        "from sklearn.model_selection import train_test_split\n",
        "\n",
        "x_train,x_test,y_train,y_test=train_test_split(x_final,y_final,test_size=0.25,random_state=0)\n",
        "model.fit(x_train,y_train,validation_data=(x_test,y_test),epochs=10,batch_size=64)\n"
      ],
      "execution_count": 38,
      "outputs": [
        {
          "output_type": "stream",
          "text": [
            "Model: \"sequential_2\"\n",
            "_________________________________________________________________\n",
            "Layer (type)                 Output Shape              Param #   \n",
            "=================================================================\n",
            "embedding_3 (Embedding)      (None, 20, 40)            200000    \n",
            "_________________________________________________________________\n",
            "lstm_3 (LSTM)                (None, 100)               56400     \n",
            "_________________________________________________________________\n",
            "dense_3 (Dense)              (None, 1)                 101       \n",
            "=================================================================\n",
            "Total params: 256,501\n",
            "Trainable params: 256,501\n",
            "Non-trainable params: 0\n",
            "_________________________________________________________________\n",
            "None\n",
            "Epoch 1/10\n",
            "215/215 [==============================] - 11s 39ms/step - loss: 0.3220 - accuracy: 0.8471 - val_loss: 0.2020 - val_accuracy: 0.9158\n",
            "Epoch 2/10\n",
            "215/215 [==============================] - 8s 36ms/step - loss: 0.1478 - accuracy: 0.9411 - val_loss: 0.1913 - val_accuracy: 0.9224\n",
            "Epoch 3/10\n",
            "215/215 [==============================] - 8s 36ms/step - loss: 0.1062 - accuracy: 0.9588 - val_loss: 0.2131 - val_accuracy: 0.9129\n",
            "Epoch 4/10\n",
            "215/215 [==============================] - 8s 36ms/step - loss: 0.0756 - accuracy: 0.9722 - val_loss: 0.2474 - val_accuracy: 0.9221\n",
            "Epoch 5/10\n",
            "215/215 [==============================] - 8s 37ms/step - loss: 0.0551 - accuracy: 0.9811 - val_loss: 0.3444 - val_accuracy: 0.9005\n",
            "Epoch 6/10\n",
            "215/215 [==============================] - 8s 37ms/step - loss: 0.0370 - accuracy: 0.9883 - val_loss: 0.3145 - val_accuracy: 0.9105\n",
            "Epoch 7/10\n",
            "215/215 [==============================] - 8s 36ms/step - loss: 0.0251 - accuracy: 0.9928 - val_loss: 0.3405 - val_accuracy: 0.9151\n",
            "Epoch 8/10\n",
            "215/215 [==============================] - 8s 36ms/step - loss: 0.0170 - accuracy: 0.9949 - val_loss: 0.4457 - val_accuracy: 0.9134\n",
            "Epoch 9/10\n",
            "215/215 [==============================] - 8s 36ms/step - loss: 0.0118 - accuracy: 0.9964 - val_loss: 0.4654 - val_accuracy: 0.9062\n",
            "Epoch 10/10\n",
            "215/215 [==============================] - 8s 36ms/step - loss: 0.0088 - accuracy: 0.9979 - val_loss: 0.4446 - val_accuracy: 0.9119\n"
          ],
          "name": "stdout"
        },
        {
          "output_type": "execute_result",
          "data": {
            "text/plain": [
              "<tensorflow.python.keras.callbacks.History at 0x7fd0c3f25f50>"
            ]
          },
          "metadata": {
            "tags": []
          },
          "execution_count": 38
        }
      ]
    },
    {
      "cell_type": "code",
      "metadata": {
        "colab": {
          "base_uri": "https://localhost:8080/"
        },
        "id": "pXHWJCU9bJ5j",
        "outputId": "45291900-83e3-4db3-a260-2209ef7b456f"
      },
      "source": [
        "y_pred=model.predict_classes(x_test)"
      ],
      "execution_count": null,
      "outputs": [
        {
          "output_type": "stream",
          "text": [
            "/usr/local/lib/python3.7/dist-packages/tensorflow/python/keras/engine/sequential.py:455: UserWarning: `model.predict_classes()` is deprecated and will be removed after 2021-01-01. Please use instead:* `np.argmax(model.predict(x), axis=-1)`,   if your model does multi-class classification   (e.g. if it uses a `softmax` last-layer activation).* `(model.predict(x) > 0.5).astype(\"int32\")`,   if your model does binary classification   (e.g. if it uses a `sigmoid` last-layer activation).\n",
            "  warnings.warn('`model.predict_classes()` is deprecated and '\n"
          ],
          "name": "stderr"
        }
      ]
    },
    {
      "cell_type": "code",
      "metadata": {
        "id": "tjg6CjO-bPJk"
      },
      "source": [
        "from sklearn.metrics import confusion_matrix,accuracy_score"
      ],
      "execution_count": null,
      "outputs": []
    },
    {
      "cell_type": "code",
      "metadata": {
        "colab": {
          "base_uri": "https://localhost:8080/"
        },
        "id": "QHLSYoDHbVhP",
        "outputId": "ec11bc50-89d4-40a8-c544-1d8ea483ee17"
      },
      "source": [
        "confusion_matrix(y_test,y_pred)"
      ],
      "execution_count": null,
      "outputs": [
        {
          "output_type": "execute_result",
          "data": {
            "text/plain": [
              "array([[2377,  206],\n",
              "       [ 178, 1811]])"
            ]
          },
          "metadata": {
            "tags": []
          },
          "execution_count": 33
        }
      ]
    },
    {
      "cell_type": "code",
      "metadata": {
        "colab": {
          "base_uri": "https://localhost:8080/"
        },
        "id": "fR-qOkfcbZZj",
        "outputId": "f993c25c-227d-4967-bc06-ae4ea6881747"
      },
      "source": [
        "accuracy_score(y_test,y_pred)"
      ],
      "execution_count": null,
      "outputs": [
        {
          "output_type": "execute_result",
          "data": {
            "text/plain": [
              "0.916010498687664"
            ]
          },
          "metadata": {
            "tags": []
          },
          "execution_count": 34
        }
      ]
    }
  ]
}